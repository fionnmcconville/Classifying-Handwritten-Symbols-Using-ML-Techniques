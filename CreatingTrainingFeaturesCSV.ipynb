{
 "cells": [
  {
   "cell_type": "code",
   "execution_count": 16,
   "metadata": {},
   "outputs": [],
   "source": [
    "import os\n",
    "os.chdir(r'D:\\Assignment2_40156103')\n"
   ]
  },
  {
   "cell_type": "code",
   "execution_count": 17,
   "metadata": {},
   "outputs": [
    {
     "data": {
      "text/plain": [
       "'D:\\\\Assignment2_40156103'"
      ]
     },
     "execution_count": 17,
     "metadata": {},
     "output_type": "execute_result"
    }
   ],
   "source": [
    "pwd"
   ]
  },
  {
   "cell_type": "code",
   "execution_count": 18,
   "metadata": {},
   "outputs": [
    {
     "name": "stdout",
     "output_type": "stream",
     "text": [
      "[[11  8 32 ...  0  0  0]\n",
      " [11  3 39 ...  0  0  0]\n",
      " [11  4 26 ...  0  0  0]\n",
      " ...\n",
      " [37  4 34 ...  0  0  0]\n",
      " [37  1 32 ...  0  0  0]\n",
      " [37  6 34 ...  0  0  0]]\n"
     ]
    }
   ],
   "source": [
    "import numpy as np\n",
    "import pandas as pd\n",
    "#directory = r'C:\\Users\\fionn\\OneDrive\\Documents\\Assignment2_40156103\\UlFl0FinFmKZlHd (1)'\n",
    "directory = r'./UlFl0FinFmKZlHd (1)'\n",
    "npfeatures_file = np.array([70,8,32,14,12,1,8,5,2,1,1,15,11,8,11,12,1,0,1,0,0,0])\n",
    "filelist = []\n",
    "\n",
    "\n",
    "for root, dirs, files in os.walk(directory):\n",
    "    for file in files:\n",
    "        if 'features.csv' in file:\n",
    "            filename = directory + \"\\\\\" + file\n",
    "            b = np.loadtxt(filename, delimiter = ',', dtype = int)\n",
    "            npfeatures_file = np.vstack((npfeatures_file, b ))\n",
    "    npfeatures_file = np.delete(npfeatures_file, 0, 0) \n",
    "print(npfeatures_file)\n",
    "            "
   ]
  },
  {
   "cell_type": "code",
   "execution_count": 20,
   "metadata": {},
   "outputs": [],
   "source": [
    "df = pd.DataFrame(npfeatures_file)\n",
    "os.chdir(r'./features')\n",
    "df.to_csv(\"trainingfeatures.csv\", index = False, header = False )"
   ]
  },
  {
   "cell_type": "code",
   "execution_count": null,
   "metadata": {},
   "outputs": [],
   "source": []
  }
 ],
 "metadata": {
  "kernelspec": {
   "display_name": "Python 3",
   "language": "python",
   "name": "python3"
  },
  "language_info": {
   "codemirror_mode": {
    "name": "ipython",
    "version": 3
   },
   "file_extension": ".py",
   "mimetype": "text/x-python",
   "name": "python",
   "nbconvert_exporter": "python",
   "pygments_lexer": "ipython3",
   "version": "3.6.5"
  }
 },
 "nbformat": 4,
 "nbformat_minor": 2
}
